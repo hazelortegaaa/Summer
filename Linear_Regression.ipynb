{
  "nbformat": 4,
  "nbformat_minor": 0,
  "metadata": {
    "colab": {
      "name": "Linear Regression.ipynb",
      "provenance": [],
      "collapsed_sections": [],
      "authorship_tag": "ABX9TyNpdkJoJfHLFJvOcRu+BkG7",
      "include_colab_link": true
    },
    "kernelspec": {
      "name": "python3",
      "display_name": "Python 3"
    },
    "language_info": {
      "name": "python"
    }
  },
  "cells": [
    {
      "cell_type": "markdown",
      "metadata": {
        "id": "view-in-github",
        "colab_type": "text"
      },
      "source": [
        "<a href=\"https://colab.research.google.com/github/hazelortegaaa/Summer/blob/main/Linear_Regression.ipynb\" target=\"_parent\"><img src=\"https://colab.research.google.com/assets/colab-badge.svg\" alt=\"Open In Colab\"/></a>"
      ]
    },
    {
      "cell_type": "code",
      "execution_count": 1,
      "metadata": {
        "id": "z1z8W_TaUC7D"
      },
      "outputs": [],
      "source": [
        "#Import each library\n",
        "import math \n",
        "import numpy as np\n",
        "import matplotlib.pyplot as plt"
      ]
    },
    {
      "cell_type": "markdown",
      "source": [
        "##Linear Regression\n",
        "##Linear regression is a classic method of fitting a line to a set of data. It can be extented from fitting with any curve with linear coefficienets.\n",
        "Where a is the slope of b  in the y- intercept. Given two sets of points x1, y1, we have to two equations with two unknown."
      ],
      "metadata": {
        "id": "HKjGnHk_UFup"
      }
    },
    {
      "cell_type": "code",
      "source": [
        "(x1, y1) = (2,1) #Axis\n",
        "(x2,y2) = (3,3)\n",
        "\n",
        "plt.plot(x1,y1,'ro')\n",
        "plt.plot(x2,y2,'ro')\n",
        "plt.plot([x1,x2], [y1, y2])\n",
        "plt.show()"
      ],
      "metadata": {
        "colab": {
          "base_uri": "https://localhost:8080/",
          "height": 265
        },
        "id": "4QwKvYolUFrp",
        "outputId": "3496b284-f5a1-46a4-b640-d3230454c21a"
      },
      "execution_count": 2,
      "outputs": [
        {
          "output_type": "display_data",
          "data": {
            "text/plain": [
              "<Figure size 432x288 with 1 Axes>"
            ],
            "image/png": "[encoded data removed]"
          },
          "metadata": {
            "needs_background": "light"
          }
        }
      ]
    },
    {
      "cell_type": "markdown",
      "source": [
        "To solve for constants $a$ and $b$, we can write these two equations:\n",
        "\n",
        "$$1 = 2 a + b$$\n",
        "\n",
        "$$3 = 3 a + b$$\n",
        "\n",
        "Using basic algebra, we find the values for $a$ and $b$ are:\n",
        "\n",
        "$$a = 2$$\n",
        "\n",
        "$$b = -3$$\n",
        "\n",
        "Redrawing the graph with the y-intercept:\n"
      ],
      "metadata": {
        "id": "17G1-jGuV-We"
      }
    },
    {
      "cell_type": "code",
      "source": [
        " a = 2\n",
        " b = -3\n",
        "\n",
        "plt.plot(x1,y1,'ro')\n",
        "plt.plot(x2,y2,'ro')\n",
        "plt.plot([0,x2], [b, y2])\n",
        "plt.show()"
      ],
      "metadata": {
        "colab": {
          "base_uri": "https://localhost:8080/",
          "height": 265
        },
        "id": "Y15x3ZCpUFms",
        "outputId": "45b68945-672b-405d-802f-4ea23b51f85d"
      },
      "execution_count": 3,
      "outputs": [
        {
          "output_type": "display_data",
          "data": {
            "text/plain": [
              "<Figure size 432x288 with 1 Axes>"
            ],
            "image/png": "[encoded data removed]"
          },
          "metadata": {
            "needs_background": "light"
          }
        }
      ]
    },
    {
      "cell_type": "markdown",
      "source": [
        "## Linear Algebra\n",
        "\n",
        "The problem above can be abstracted using [linear algebra](https://en.wikipedia.org/wiki/Linear_algebra). The system of equations above can be rewritten in matrix form:\n"
      ],
      "metadata": {
        "id": "07vhmLdoXF5m"
      }
    },
    {
      "cell_type": "markdown",
      "source": [
        "$$1 = 2 a + b$$\n",
        "\n",
        "$$3 = 3 a + b$$\n",
        "\n",
        "$$ \\begin{bmatrix}\n",
        "1 \\\\\n",
        "3\n",
        "\\end{bmatrix} = \\begin{bmatrix}\n",
        "2 & 1 \\\\\n",
        "3 & 1 \\\\\n",
        "\\end{bmatrix} \\begin{bmatrix}\n",
        "a \\\\\n",
        "b\n",
        "\\end{bmatrix}$$\n"
      ],
      "metadata": {
        "id": "RIiGY-2zXKzs"
      }
    },
    {
      "cell_type": "markdown",
      "source": [
        "This can be written more generally as matrix equation\n",
        "\n",
        "$$y = A v$$\n",
        "\n",
        "Where $y$ and $v$ are vectors and $A$ is a matrix:\n",
        "\n",
        "$$y = \\begin{bmatrix}\n",
        "1 \\\\\n",
        "3\n",
        "\\end{bmatrix}$$\n",
        "\n",
        "$$v = \\begin{bmatrix}\n",
        "a \\\\\n",
        "b\n",
        "\\end{bmatrix}$$\n",
        "\n",
        "$$A = \\begin{bmatrix}\n",
        "2 & 1 \\\\\n",
        "3 & 1 \\\\\n",
        "\\end{bmatrix}$$\n"
      ],
      "metadata": {
        "id": "1eIQgcoCXQdW"
      }
    },
    {
      "cell_type": "markdown",
      "source": [
        "To solve for $a$ and $b$, which is equivalent to solving for the vector $v$, consider how we would solve a simple equation such as\n",
        "\n",
        "$$1 = 2 x$$\n",
        "\n",
        "We could multiply both sides of the equation by the inverse of $2$, which is $2^{-1}$\n",
        "\n",
        "$$2^{-1} \\times 1 = 2^{-1} \\times 2 x$$\n",
        "\n",
        "$2 \\times 2^{-1}$ is just $1$, so\n",
        "\n",
        "$$x = \\frac{1}{2}$$\n"
      ],
      "metadata": {
        "id": "lS3-HV9aXsr6"
      }
    },
    {
      "cell_type": "markdown",
      "source": [
        "By analogy, multiplying the matrix equation above by the inverse of $A$ or $A^{-1}$ on both sides would look like this\n",
        "\n",
        "$$y = A v$$\n",
        "\n",
        "$$A^{-1} y = A^{-1} A v$$\n",
        "\n",
        "The quantity $A^{-1} A$ becomes the [identity matrix](https://en.wikipedia.org/wiki/Identity_matrix), so the vector $v$ would then be\n",
        "\n",
        "$$v = A^{-1} y$$\n",
        "\n",
        "NumPy contains methods to compute the inverse of a matrix.\n"
      ],
      "metadata": {
        "id": "agFLUI4HXyWQ"
      }
    },
    {
      "cell_type": "code",
      "source": [
        "#Create a 2x2 matrix\n",
        "\n",
        "A = np.array([[x1, 1,], [x2,1]])\n",
        "A"
      ],
      "metadata": {
        "colab": {
          "base_uri": "https://localhost:8080/"
        },
        "id": "l4RU2pTuUFYZ",
        "outputId": "a26fa283-220d-478d-bb6d-0076daf2e571"
      },
      "execution_count": 4,
      "outputs": [
        {
          "output_type": "execute_result",
          "data": {
            "text/plain": [
              "array([[2, 1],\n",
              "       [3, 1]])"
            ]
          },
          "metadata": {},
          "execution_count": 4
        }
      ]
    },
    {
      "cell_type": "code",
      "source": [
        "#Create the inverse of A\n",
        "\n",
        "inv = np.linalg.inv(A)\n",
        "Ainv"
      ],
      "metadata": {
        "colab": {
          "base_uri": "https://localhost:8080/",
          "height": 206
        },
        "id": "kcSUrRp4UFWD",
        "outputId": "b97fd98f-0626-485d-fe55-308787d8bf6e"
      },
      "execution_count": 5,
      "outputs": [
        {
          "output_type": "error",
          "ename": "NameError",
          "evalue": "ignored",
          "traceback": [
            "\u001b[0;31m---------------------------------------------------------------------------\u001b[0m",
            "\u001b[0;31mNameError\u001b[0m                                 Traceback (most recent call last)",
            "\u001b[0;32m<ipython-input-5-35ed3937f1a5>\u001b[0m in \u001b[0;36m<module>\u001b[0;34m()\u001b[0m\n\u001b[1;32m      2\u001b[0m \u001b[0;34m\u001b[0m\u001b[0m\n\u001b[1;32m      3\u001b[0m \u001b[0minv\u001b[0m \u001b[0;34m=\u001b[0m \u001b[0mnp\u001b[0m\u001b[0;34m.\u001b[0m\u001b[0mlinalg\u001b[0m\u001b[0;34m.\u001b[0m\u001b[0minv\u001b[0m\u001b[0;34m(\u001b[0m\u001b[0mA\u001b[0m\u001b[0;34m)\u001b[0m\u001b[0;34m\u001b[0m\u001b[0;34m\u001b[0m\u001b[0m\n\u001b[0;32m----> 4\u001b[0;31m \u001b[0mAinv\u001b[0m\u001b[0;34m\u001b[0m\u001b[0;34m\u001b[0m\u001b[0m\n\u001b[0m",
            "\u001b[0;31mNameError\u001b[0m: name 'Ainv' is not defined"
          ]
        }
      ]
    },
    {
      "cell_type": "code",
      "source": [
        "#Mulitply the inverse of A with A to cinfirm it rpoduces the indentity matrix\n",
        "\n",
        "Ainv.dot(A)"
      ],
      "metadata": {
        "id": "QmfTT5Q1UFPV"
      },
      "execution_count": null,
      "outputs": []
    },
    {
      "cell_type": "markdown",
      "source": [
        "This is the value of the identity matrix with a very small round-off error:\n",
        "\n",
        "$$A^{-1} A = I = \\begin{bmatrix}\n",
        "1 & 0 \\\\\n",
        "0 & 1 \\\\\n",
        "\\end{bmatrix}$$\n",
        "\n",
        "Multiplying the vector $v$ with $A^{-1}$ on the left yields the vector $y$:\n"
      ],
      "metadata": {
        "id": "2aSejzZ5ZBpq"
      }
    },
    {
      "cell_type": "code",
      "source": [
        "y = np.array([1,3])\n",
        "v = Ainv.dot(y)\n",
        "v"
      ],
      "metadata": {
        "id": "dcwK03aGUKUn"
      },
      "execution_count": null,
      "outputs": []
    },
    {
      "cell_type": "markdown",
      "source": [
        "## More Data\n",
        "\n",
        "Consider the case when more than two data points are available.\n"
      ],
      "metadata": {
        "id": "c7T3kg0aZlkD"
      }
    },
    {
      "cell_type": "markdown",
      "source": [
        "This can be rewritten in matrix form:\n",
        "\n",
        "$$ \\begin{bmatrix}\n",
        "y_1 \\\\\n",
        "y_2 \\\\\n",
        "... \\\\\n",
        "y_n\n",
        "\\end{bmatrix} = \\begin{bmatrix}\n",
        "x_1 & 1 \\\\\n",
        "x_2 & 1 \\\\\n",
        "... \\\\\n",
        "x_n & 1\n",
        "\\end{bmatrix} \\begin{bmatrix}\n",
        "a \\\\\n",
        "b\n",
        "\\end{bmatrix}$$\n"
      ],
      "metadata": {
        "id": "Givz3dwnZqY9"
      }
    },
    {
      "cell_type": "markdown",
      "source": [
        "Introduce variables for simplification:\n",
        "\n",
        "$$ y = \\begin{bmatrix}\n",
        "y_1 \\\\\n",
        "y_2 \\\\\n",
        "... \\\\\n",
        "y_n\n",
        "\\end{bmatrix}$$\n",
        "\n",
        "$$ A = \\begin{bmatrix}\n",
        "x_1 & 1 \\\\\n",
        "x_2 & 1 \\\\\n",
        "... \\\\\n",
        "x_n & 1\n",
        "\\end{bmatrix}$$\n",
        "\n",
        "$$ v = \\begin{bmatrix}\n",
        "a \\\\\n",
        "b\n",
        "\\end{bmatrix}$$\n"
      ],
      "metadata": {
        "id": "9ynFN_oXZrX8"
      }
    },
    {
      "cell_type": "markdown",
      "source": [
        "Substitute variables above to produce a simplifed form:\n",
        "\n",
        "$$ y = A v$$\n"
      ],
      "metadata": {
        "id": "L0yqKzLYZxaz"
      }
    },
    {
      "cell_type": "markdown",
      "source": [
        "If $A$ is a square matrix, i.e. $n = 2$, $a$ and $b$ can be determined exactly:\n",
        "\n",
        "$$ \\begin{bmatrix}\n",
        "a \\\\\n",
        "b\n",
        "\\end{bmatrix} = v = A^{-1} y$$\n"
      ],
      "metadata": {
        "id": "thj6qfvSZz3T"
      }
    },
    {
      "cell_type": "markdown",
      "source": [
        "In the case where $n > 2$, $A$ is not square and cannot be inverted. One solution is to compute a pseudo-inverse by multiplying $A$ by it's transpose $A^T$, which will yield a square matrix on the right hand side:\n",
        "\n",
        "$$ A^T y = A^T A v$$\n"
      ],
      "metadata": {
        "id": "_tAR_vOBZ6hR"
      }
    },
    {
      "cell_type": "markdown",
      "source": [
        "he matrix $A^T A$ on the right can be eliminated by multiplying by it's inverse $(A^T A)^{-1}$:\n",
        "\n",
        "$$ (A^T A)^{-1} A^T y = (A^T A)^{-1} (A^T A) v$$\n"
      ],
      "metadata": {
        "id": "fm3NQOgbZ7f2"
      }
    },
    {
      "cell_type": "markdown",
      "source": [
        "Simplifying yields the result for $a$ and $b$:\n",
        "\n",
        "$$ v = \\begin{bmatrix}\n",
        "a \\\\\n",
        "b\n",
        "\\end{bmatrix} = (A^T A)^{-1} A^T y$$\n"
      ],
      "metadata": {
        "id": "R9Oq4LlbaRO9"
      }
    },
    {
      "cell_type": "markdown",
      "source": [
        "##Numerical exmaple\n",
        "The followung is an exmaple with real values."
      ],
      "metadata": {
        "id": "xuDsabTyUKQY"
      }
    },
    {
      "cell_type": "code",
      "source": [
        "x = np.array([-0.40033681,  1.12710083,  1.51535892,  3.13012734,  3.07744676,\n",
        "        4.25275393,  6.535855  ,  4.23343874,  8.048823  ,  7.38773014,\n",
        "        9.91933651, 12.69142755, 11.61959316, 12.20667906, 13.98048109,\n",
        "       16.07602619, 16.31351797, 17.31102756, 17.74511659, 17.66863483])\n",
        "\n",
        "y = np.array([ 0.7261771 ,  2.86206199, -0.2489528 ,  0.63325248,  4.49244568,\n",
        "        5.30531409, 13.6101148 ,  8.48395548, 10.42996366, 14.74172737,\n",
        "       15.88897483, 23.76571743, 23.61602269, 20.17880228, 25.85779471,\n",
        "       30.11114371, 26.88735809, 28.57977723, 30.99383456, 33.03676545])\n",
        "\n",
        "plt.scatter(x, y, color='red')\n",
        "plt.show()\n"
      ],
      "metadata": {
        "id": "OBCiQ0fsUKOE"
      },
      "execution_count": null,
      "outputs": []
    },
    {
      "cell_type": "markdown",
      "source": [
        "Prepare matrix A of the form\n",
        "\n",
        "$$A = \\begin{bmatrix}\n",
        "x_1 & 1 \\\\\n",
        "x_2 & 1 \\\\\n",
        "... \\\\\n",
        "x_n & 1\n",
        "\\end{bmatrix}$$\n"
      ],
      "metadata": {
        "id": "AoFFWRRJas33"
      }
    },
    {
      "cell_type": "code",
      "source": [
        "x_matrix = x.reshape((-1, 1))\n",
        "ones = np.ones((len(x), 1))\n",
        "A = np.append(x_matrix, ones, axis=1)\n",
        "A"
      ],
      "metadata": {
        "id": "P9W1OUqDUKJZ"
      },
      "execution_count": null,
      "outputs": []
    },
    {
      "cell_type": "code",
      "source": [
        "x_matrix = x.reshape((-1, 1))\n",
        "ones = np.ones((len(x), 1))\n",
        "A = np.append(x_matrix, ones, axis=1)\n",
        "A"
      ],
      "metadata": {
        "id": "V7ktJ8lXUKG8"
      },
      "execution_count": null,
      "outputs": []
    },
    {
      "cell_type": "code",
      "source": [
        "At = A.T\n",
        "pseudo_inv = np.linalg.inv(At.dot(A)).dot(At)\n",
        "pseudo_inv"
      ],
      "metadata": {
        "id": "9im3Jf0eUKEY"
      },
      "execution_count": null,
      "outputs": []
    },
    {
      "cell_type": "markdown",
      "source": [
        "Compute $a$ and $b$ by multiplying the pseudo-inverse times $y$\n",
        "\n",
        "$$\\begin{bmatrix}\n",
        "a \\\\\n",
        "b\n",
        "\\end{bmatrix} = (A^T A)^{-1} A^T y$$\n"
      ],
      "metadata": {
        "id": "RI1U1V0gbKel"
      }
    },
    {
      "cell_type": "code",
      "source": [
        "(a, b) = pseudo_inv.dot(y)\n",
        "\n",
        "x_points = [0, 20]\n",
        "y_points = [a*x + b for x in x_points]\n",
        "plt.scatter(x, y, color='red')\n",
        "plt.plot(x_points, y_points)\n",
        "plt.show()"
      ],
      "metadata": {
        "id": "7-HAfjdtUJ_b"
      },
      "execution_count": null,
      "outputs": []
    },
    {
      "cell_type": "code",
      "source": [
        ""
      ],
      "metadata": {
        "id": "LgCsCc3GZdd2"
      },
      "execution_count": null,
      "outputs": []
    }
  ]
}