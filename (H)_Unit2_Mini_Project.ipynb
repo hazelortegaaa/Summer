{
  "nbformat": 4,
  "nbformat_minor": 0,
  "metadata": {
    "colab": {
      "name": "(H) Unit2_Mini_Project.ipynb",
      "provenance": [],
      "collapsed_sections": [],
      "include_colab_link": true
    },
    "kernelspec": {
      "name": "python3",
      "display_name": "Python 3"
    }
  },
  "cells": [
    {
      "cell_type": "markdown",
      "metadata": {
        "id": "view-in-github",
        "colab_type": "text"
      },
      "source": [
        "<a href=\"https://colab.research.google.com/github/hazelortegaaa/Summer/blob/main/(H)_Unit2_Mini_Project.ipynb\" target=\"_parent\"><img src=\"https://colab.research.google.com/assets/colab-badge.svg\" alt=\"Open In Colab\"/></a>"
      ]
    },
    {
      "cell_type": "markdown",
      "metadata": {
        "id": "Vgs8Kp4TidFQ"
      },
      "source": [
        "# Intrdouction to Python - Mini Project"
      ]
    },
    {
      "cell_type": "markdown",
      "metadata": {
        "id": "_Hq7Ny79iwgD"
      },
      "source": [
        "#Python Project – Odd or Even\n",
        "\n",
        "Ask the user for a number. Depending on whether the number is even or odd, print out an appropriate message to the user. Hint: how does an even / odd number react differently when divided by 2?\n"
      ]
    },
    {
      "cell_type": "code",
      "metadata": {
        "id": "lotvpVpvlKsR",
        "colab": {
          "base_uri": "https://localhost:8080/"
        },
        "outputId": "58544a9f-cbad-44bb-bf94-dcc920b87778"
      },
      "source": [
        "n = int (input(\"Please enter any number you'd like:\")) #Asks user for a number\n",
        "x = n % 2 \n",
        "if(x==0): #If else statement to check if number is even or odd\n",
        "  print(n, \"The number you entered is even!\") #Shows if output is even\n",
        "else: \n",
        "  print(n, \"The number you entered is odd!\") #Shows if output is odd"
      ],
      "execution_count": 11,
      "outputs": [
        {
          "output_type": "stream",
          "name": "stdout",
          "text": [
            "Please enter any number you'd like:8\n",
            "8 The number you entered is even!\n"
          ]
        }
      ]
    },
    {
      "cell_type": "markdown",
      "metadata": {
        "id": "io_27RSlizno"
      },
      "source": [
        "# Bonus:\n",
        "\n",
        "1.\tIf the number is a multiple of 4, print out a different message.\n",
        "\n",
        "2.\tAsk the user for two numbers: one number to check (call it num) and one number to divide by (check). If check divides evenly into num, tell that to the user. If not, print a different appropriate message.\n"
      ]
    },
    {
      "cell_type": "code",
      "metadata": {
        "id": "Dh1o5cAylSHB",
        "colab": {
          "base_uri": "https://localhost:8080/"
        },
        "outputId": "15833072-09f1-4898-89ea-1f89beb5a2bc"
      },
      "source": [
        "#If the number is a multiple of 4, print out a different message.\n",
        "\n",
        "num = int (input(\"Please enter any number you'd like:\")) #Asks user for a number\n",
        "\n",
        "if num % 4 == 0: #Number multiple of 4\n",
        " print(\"Divided by 4:\") \n",
        "x = int(input(\"Please enter a second number you'd like: \"))\n",
        "if num % x ==0:  #If else statement to check if number is even or odd\n",
        " print(\"The number you entered is even!\")\n",
        "else: #If else statement to check if number is even or odd\n",
        " print(\"The number you entered is odd!\") #Shows output of the number"
      ],
      "execution_count": 9,
      "outputs": [
        {
          "output_type": "stream",
          "name": "stdout",
          "text": [
            "Please enter any number you'd like:2\n",
            "Please enter a second number you'd like: 2\n",
            "The number you entered is even!\n"
          ]
        }
      ]
    },
    {
      "cell_type": "code",
      "metadata": {
        "id": "vs8ppR-wlSKL",
        "colab": {
          "base_uri": "https://localhost:8080/"
        },
        "outputId": "7e62f854-b2c6-4169-ff49-1b2e409e1f5a"
      },
      "source": [
        "#Ask the user for two numbers: one number to check (call it num) and one number to divide by (check). If check divides evenly into num, tell that to the user. If not, print a different appropriate message.\n",
        "num = int(input(\"Please enter one number:\")) #Asks user for a number \n",
        "check = int(input(\"Please enter a second number to make the division: \")) #Asks user for a second number and check is a variable where the user is going to check if can be divided\n",
        "\n",
        "if num % check == 0: #Checks to see if the numbers can be divided even\n",
        " print(\"The result will be even!\") \n",
        "else: #If else statement to check if the result will be even or odd\n",
        " print(\"The numbers you have entered can't be divided.\") #Shows output of the number"
      ],
      "execution_count": 3,
      "outputs": [
        {
          "output_type": "stream",
          "name": "stdout",
          "text": [
            "Please enter one number:2\n",
            "Please enter a second number to make the division: 2\n",
            "The result will be even!\n"
          ]
        }
      ]
    }
  ]
}