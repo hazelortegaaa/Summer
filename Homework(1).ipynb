{
  "nbformat": 4,
  "nbformat_minor": 0,
  "metadata": {
    "colab": {
      "name": "Homework(1).ipynb",
      "provenance": [],
      "collapsed_sections": [],
      "authorship_tag": "ABX9TyN1YCzX9J+ru0B8yA88dTqh",
      "include_colab_link": true
    },
    "kernelspec": {
      "name": "python3",
      "display_name": "Python 3"
    },
    "language_info": {
      "name": "python"
    }
  },
  "cells": [
    {
      "cell_type": "markdown",
      "metadata": {
        "id": "view-in-github",
        "colab_type": "text"
      },
      "source": [
        "<a href=\"https://colab.research.google.com/github/hazelortegaaa/Summer/blob/main/Homework(1).ipynb\" target=\"_parent\"><img src=\"https://colab.research.google.com/assets/colab-badge.svg\" alt=\"Open In Colab\"/></a>"
      ]
    },
    {
      "cell_type": "markdown",
      "source": [
        "##Answer all questions!"
      ],
      "metadata": {
        "id": "b72GMvMop1W1"
      }
    },
    {
      "cell_type": "markdown",
      "source": [
        "##Write a Python program to get the volume of a sphere with radius 6\n"
      ],
      "metadata": {
        "id": "7QPxqgY9p1Ur"
      }
    },
    {
      "cell_type": "code",
      "source": [
        ""
      ],
      "metadata": {
        "id": "gSsgEAZsK4q3"
      },
      "execution_count": null,
      "outputs": []
    },
    {
      "cell_type": "code",
      "source": [
        "#Python program to get the volume of a sphere with radius 6.\n",
        "pi = 3.14\n",
        "radius =6.0\n",
        "volume = 4.0/3.0*pi*radius**3 #Cheks all calculations to get the volume.\n",
        "\n",
        "\n",
        "print(\"The volume of the sphere is: \", volume)"
      ],
      "metadata": {
        "colab": {
          "base_uri": "https://localhost:8080/"
        },
        "id": "X7ccB-nJp1Sk",
        "outputId": "a3ed75a2-978a-47d4-9654-be429c43ff30"
      },
      "execution_count": null,
      "outputs": [
        {
          "output_type": "stream",
          "name": "stdout",
          "text": [
            "The volume of the sphere is:  904.3199999999999\n"
          ]
        }
      ]
    },
    {
      "cell_type": "markdown",
      "source": [
        "##Write a Python program to find whether a given number (accept from the user) is even or odd"
      ],
      "metadata": {
        "id": "k7_cSSmyqQaE"
      }
    },
    {
      "cell_type": "code",
      "source": [
        "#In this line the user enters any number and tells if its even or odd.\n",
        "n = int(input(\"Enter any number you would like: \"))\n",
        "x = n % 2 #Checks if the number given is odd or even\n",
        "if (x == 0):\n",
        "  print(n, \"is an even number!\")\n",
        "else:\n",
        "    print(n, \"is is an odd number!\")"
      ],
      "metadata": {
        "colab": {
          "base_uri": "https://localhost:8080/"
        },
        "id": "8cfz4QJzp1QP",
        "outputId": "9ba428c8-b91e-4e38-a786-339a23007e21"
      },
      "execution_count": null,
      "outputs": [
        {
          "output_type": "stream",
          "name": "stdout",
          "text": [
            "Enter any number you would like: 4\n",
            "4 is an even number!\n"
          ]
        }
      ]
    },
    {
      "cell_type": "code",
      "source": [
        ""
      ],
      "metadata": {
        "id": "SlQVoDC1uscj"
      },
      "execution_count": null,
      "outputs": []
    },
    {
      "cell_type": "markdown",
      "source": [
        "##Write a Python program to count the number 4 in a given list\n",
        "\n",
        "\n"
      ],
      "metadata": {
        "id": "rKuuU5SFp1LO"
      }
    },
    {
      "cell_type": "code",
      "source": [
        "#In this line we are given a list that has to count how many 4's are given.\n",
        "def list (n): #Define list\n",
        " count = 0   #Count zero\n",
        " for num in n:\n",
        "  if num == 4: #Search how many 4's\n",
        "    count = count + 1\n",
        "\n",
        " return count\n",
        "\n",
        "print(\"The number of times 4 is repetead in the given list is:\")\n",
        "print(list([1,2,3,4,5,4,78,22,4,9,4,11,4,32,45,67,24])) #Given list\n"
      ],
      "metadata": {
        "colab": {
          "base_uri": "https://localhost:8080/"
        },
        "id": "jc_6vvICqrsy",
        "outputId": "d6d7fe43-7d87-4c1a-b86c-c312b51a12c6"
      },
      "execution_count": null,
      "outputs": [
        {
          "output_type": "stream",
          "name": "stdout",
          "text": [
            "The number of times 4 is repetead in the given list is:\n",
            "5\n"
          ]
        }
      ]
    },
    {
      "cell_type": "code",
      "source": [
        ""
      ],
      "metadata": {
        "id": "PDOUHazUqro6"
      },
      "execution_count": null,
      "outputs": []
    },
    {
      "cell_type": "markdown",
      "source": [
        "##Write a Python program that will accept the base and height of a triangle and compute the area"
      ],
      "metadata": {
        "id": "wuAa9NGRp1GT"
      }
    },
    {
      "cell_type": "code",
      "source": [
        "#In this line we the user will enter any number to calculate the base and height of a triangle to compute the area.\n",
        "base = int(input(\"Please enter any number for base:\"))\n",
        "height = int(input (\"Please enter any number for height:\"))\n",
        "\n",
        "#area = 1/2\n",
        "#base = 2\n",
        "#height = 2/base\n",
        "\n",
        "area = base*height/2\n",
        "\n",
        "print(\"The area found is:\", area) #Prints out the area."
      ],
      "metadata": {
        "colab": {
          "base_uri": "https://localhost:8080/"
        },
        "id": "TZMIxBGzSHHf",
        "outputId": "b0a9a123-4f03-4116-ab2f-9f38883df781"
      },
      "execution_count": null,
      "outputs": [
        {
          "output_type": "stream",
          "name": "stdout",
          "text": [
            "Please enter any number for base:20\n",
            "Please enter any number for height:40\n",
            "The area found is: 400.0\n"
          ]
        }
      ]
    },
    {
      "cell_type": "code",
      "source": [
        ""
      ],
      "metadata": {
        "id": "6Z-6_g1GSHEd"
      },
      "execution_count": null,
      "outputs": []
    },
    {
      "cell_type": "markdown",
      "source": [
        "##Write a Python program to convert the distance (in feet) to inches, yards, and miles."
      ],
      "metadata": {
        "id": "3530PAYPp1Bc"
      }
    },
    {
      "cell_type": "code",
      "source": [
        "#In this line we have to convert the distance in feet to inches, yards and miles.\n",
        "distance = int(input(\"Please enter any distance in feet:\"))\n",
        "\n",
        "inches = distance * 12 #We do the calculation for each one (inches, yards, miles)\n",
        "yards = distance /3.0\n",
        "miles = distance /5280.0\n",
        "\n",
        "print(\"Distance coverted into Inches is:\", inches) #Prints out the distance given by the user.\n",
        "print(\"Yards:\",yards)\n",
        "print(\"Miles:\",miles)"
      ],
      "metadata": {
        "colab": {
          "base_uri": "https://localhost:8080/"
        },
        "id": "EWy8UpDbp0-6",
        "outputId": "4b4b5b0f-41e1-4245-9e27-c0d9b3f1fa7f"
      },
      "execution_count": null,
      "outputs": [
        {
          "output_type": "stream",
          "name": "stdout",
          "text": [
            "Please enter any distance in feet:100\n",
            "Distance coverted into Inches is: 1200\n",
            "Yards: 33.333333333333336\n",
            "Miles: 0.01893939393939394\n"
          ]
        }
      ]
    },
    {
      "cell_type": "code",
      "source": [
        ""
      ],
      "metadata": {
        "id": "uGF7hyBsp0s8"
      },
      "execution_count": null,
      "outputs": []
    }
  ]
}