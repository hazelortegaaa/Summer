{
  "nbformat": 4,
  "nbformat_minor": 0,
  "metadata": {
    "colab": {
      "name": "Basics pt3.ipynb",
      "provenance": [],
      "collapsed_sections": [],
      "authorship_tag": "ABX9TyM3MsuHaoUFjVopHhC79yPR",
      "include_colab_link": true
    },
    "kernelspec": {
      "name": "python3",
      "display_name": "Python 3"
    },
    "language_info": {
      "name": "python"
    }
  },
  "cells": [
    {
      "cell_type": "markdown",
      "metadata": {
        "id": "view-in-github",
        "colab_type": "text"
      },
      "source": [
        "<a href=\"https://colab.research.google.com/github/hazelortegaaa/Summer/blob/main/Basics_pt3.ipynb\" target=\"_parent\"><img src=\"https://colab.research.google.com/assets/colab-badge.svg\" alt=\"Open In Colab\"/></a>"
      ]
    },
    {
      "cell_type": "markdown",
      "source": [
        "##Conditional and loops"
      ],
      "metadata": {
        "id": "LgW3Fq5PJxYF"
      }
    },
    {
      "cell_type": "markdown",
      "source": [
        "##Conditionals"
      ],
      "metadata": {
        "id": "PNnYLYsyKGDh"
      }
    },
    {
      "cell_type": "markdown",
      "source": [
        "##IF ... ELIF ...ELSE Statements"
      ],
      "metadata": {
        "id": "KtacPCH6KGBK"
      }
    },
    {
      "cell_type": "code",
      "source": [
        "\"\"\"\n",
        "if (condition):\n",
        "   do something\n",
        "   \"\"\""
      ],
      "metadata": {
        "colab": {
          "base_uri": "https://localhost:8080/",
          "height": 36
        },
        "id": "jf63822UKF-i",
        "outputId": "2673c118-b2cf-4e6b-df1a-d4154b2c0010"
      },
      "execution_count": null,
      "outputs": [
        {
          "output_type": "execute_result",
          "data": {
            "text/plain": [
              "'\\nif (condition):\\n   do something\\n   '"
            ],
            "application/vnd.google.colaboratory.intrinsic+json": {
              "type": "string"
            }
          },
          "metadata": {},
          "execution_count": 7
        }
      ]
    },
    {
      "cell_type": "code",
      "source": [
        "if 3 > 2:\n",
        "  print(\"Right\")\n",
        " "
      ],
      "metadata": {
        "colab": {
          "base_uri": "https://localhost:8080/"
        },
        "id": "mzb5cb5vKF8W",
        "outputId": "12f5b59c-92d4-4c2a-cad6-43cfd78b6f62"
      },
      "execution_count": null,
      "outputs": [
        {
          "output_type": "stream",
          "name": "stdout",
          "text": [
            "Right\n"
          ]
        }
      ]
    },
    {
      "cell_type": "code",
      "source": [
        "if 4 > 7:\n",
        "  print(\"Right!\")\n",
        "else:\n",
        "    print(\"wrong\")"
      ],
      "metadata": {
        "colab": {
          "base_uri": "https://localhost:8080/"
        },
        "id": "RetD89zOKF6E",
        "outputId": "1605832e-5eda-474c-fb6f-2b75f9cfc3e1"
      },
      "execution_count": null,
      "outputs": [
        {
          "output_type": "stream",
          "name": "stdout",
          "text": [
            "wrong\n"
          ]
        }
      ]
    },
    {
      "cell_type": "code",
      "source": [
        "a = 3\n",
        "b = 5\n",
        "\n",
        "if a > b:\n",
        "  print(\"Yes, it is right!\")\n",
        "else:\n",
        "    print(\"Try again!\")"
      ],
      "metadata": {
        "colab": {
          "base_uri": "https://localhost:8080/"
        },
        "id": "huhQfy0dKF3t",
        "outputId": "4b8aa7b3-fff3-4204-9f6b-5b52dc6a8ec1"
      },
      "execution_count": null,
      "outputs": [
        {
          "output_type": "stream",
          "name": "stdout",
          "text": [
            "Try again!\n"
          ]
        }
      ]
    },
    {
      "cell_type": "code",
      "source": [
        "drink = \"Tea\"\n",
        "\n",
        "if drink == \"Coffee\":\n",
        "  print(\"Humanity runs on coffee\")\n",
        "else:\n",
        "    print(\"Where there is tea, there is a hope\")"
      ],
      "metadata": {
        "id": "2Ry6X5R4KF1l",
        "colab": {
          "base_uri": "https://localhost:8080/"
        },
        "outputId": "eecd6244-7ac3-48ae-cc58-39a62684ffbe"
      },
      "execution_count": 1,
      "outputs": [
        {
          "output_type": "stream",
          "name": "stdout",
          "text": [
            "Where there is tea, there is a hope\n"
          ]
        }
      ]
    },
    {
      "cell_type": "code",
      "source": [
        "drink = \"Coke\"\n",
        "\n",
        "if drink == \"Coffee\":\n",
        "  print(\"Humanity runs on coffee\")\n",
        "elif drink == \"Water\":\n",
        "    print(\"Water is the soul of earth!\")\n",
        "elif drink == \"Coke\":\n",
        "      print(\"Coke is the new fuel for the programmer\")\n",
        "else:\n",
        "      print(\"Where there is tea, there is hope\")"
      ],
      "metadata": {
        "id": "4HTjHcJ4KFzI",
        "colab": {
          "base_uri": "https://localhost:8080/"
        },
        "outputId": "393b2bc9-0e70-498d-9db7-d460ebec4bf0"
      },
      "execution_count": 3,
      "outputs": [
        {
          "output_type": "stream",
          "name": "stdout",
          "text": [
            "Coke is the new fuel for the programmer\n"
          ]
        }
      ]
    },
    {
      "cell_type": "markdown",
      "source": [
        "##For Loops"
      ],
      "metadata": {
        "id": "jGJMcAGxLshT"
      }
    },
    {
      "cell_type": "markdown",
      "source": [
        "For-Loop"
      ],
      "metadata": {
        "id": "r8giAjlpLse6"
      }
    },
    {
      "cell_type": "code",
      "source": [
        "\"\"\" \n",
        "for iterator in array:\n",
        "  do something\n",
        "  \"\"\""
      ],
      "metadata": {
        "colab": {
          "base_uri": "https://localhost:8080/",
          "height": 36
        },
        "id": "adSvqh4VLscW",
        "outputId": "4de8965f-5a42-4377-aa2a-12f981513aaf"
      },
      "execution_count": null,
      "outputs": [
        {
          "output_type": "execute_result",
          "data": {
            "text/plain": [
              "' \\nfor iterator in array:\\n  do something\\n  '"
            ],
            "application/vnd.google.colaboratory.intrinsic+json": {
              "type": "string"
            }
          },
          "metadata": {},
          "execution_count": 11
        }
      ]
    },
    {
      "cell_type": "code",
      "source": [
        "my_list = [1,2,3,4,5,6,7,8,9,10]"
      ],
      "metadata": {
        "id": "C-7mojPrLsaA"
      },
      "execution_count": 12,
      "outputs": []
    },
    {
      "cell_type": "code",
      "source": [
        "for num in my_list:\n",
        "  print(num)"
      ],
      "metadata": {
        "colab": {
          "base_uri": "https://localhost:8080/"
        },
        "id": "JnryJkWsMVV9",
        "outputId": "1d151bc5-9edf-42cd-daa5-8499fcffa67e"
      },
      "execution_count": 11,
      "outputs": [
        {
          "output_type": "stream",
          "name": "stdout",
          "text": [
            "1\n",
            "2\n",
            "3\n",
            "4\n",
            "5\n",
            "45\n",
            "6\n",
            "34\n"
          ]
        }
      ]
    },
    {
      "cell_type": "code",
      "source": [
        "for i in my_list:\n",
        "  if i % 2 == 0:\n",
        "    print(i)"
      ],
      "metadata": {
        "colab": {
          "base_uri": "https://localhost:8080/"
        },
        "id": "rFGKqTcoMZyI",
        "outputId": "8951b209-3b43-4bcd-c77b-17aeedae4f45"
      },
      "execution_count": 10,
      "outputs": [
        {
          "output_type": "stream",
          "name": "stdout",
          "text": [
            "2\n",
            "4\n",
            "6\n",
            "34\n"
          ]
        }
      ]
    },
    {
      "cell_type": "code",
      "source": [
        "for num in my_list:\n",
        "  if num % 2 !=0:\n",
        "    print(num)"
      ],
      "metadata": {
        "colab": {
          "base_uri": "https://localhost:8080/"
        },
        "id": "6OD_NYF8MZv-",
        "outputId": "aaa4635b-1fc0-417a-e985-578b829ac921"
      },
      "execution_count": 9,
      "outputs": [
        {
          "output_type": "stream",
          "name": "stdout",
          "text": [
            "1\n",
            "3\n",
            "5\n",
            "45\n"
          ]
        }
      ]
    },
    {
      "cell_type": "code",
      "source": [
        "my_list = [1,2,3,4,5, 45, 6, 34]\n",
        "list_sum = 0\n",
        "\n",
        "for num in my_list:\n",
        "  list_sum = list_sum + num\n",
        "print(list_sum)"
      ],
      "metadata": {
        "colab": {
          "base_uri": "https://localhost:8080/"
        },
        "id": "w_UrmFTxMZtp",
        "outputId": "fc7133e6-d28c-4ce4-e902-53867ab0d86a"
      },
      "execution_count": 8,
      "outputs": [
        {
          "output_type": "stream",
          "name": "stdout",
          "text": [
            "100\n"
          ]
        }
      ]
    },
    {
      "cell_type": "code",
      "source": [
        "my_list = [(1,2,3), (4,5,6),(7,8,9)]"
      ],
      "metadata": {
        "id": "eqqtijiEMZoz"
      },
      "execution_count": 17,
      "outputs": []
    },
    {
      "cell_type": "code",
      "source": [
        "for a,b, c in my_list:\n",
        "  print(b,c)"
      ],
      "metadata": {
        "colab": {
          "base_uri": "https://localhost:8080/"
        },
        "id": "evfDf-JZMZmT",
        "outputId": "85696c85-ca0b-40c1-e32a-c3f6d1543631"
      },
      "execution_count": 18,
      "outputs": [
        {
          "output_type": "stream",
          "name": "stdout",
          "text": [
            "2 3\n",
            "5 6\n",
            "8 9\n"
          ]
        }
      ]
    },
    {
      "cell_type": "code",
      "source": [
        "my_list = [(1,2,3), (4,5,6), (7,8,9)]\n"
      ],
      "metadata": {
        "id": "AjITo5eSSNWM"
      },
      "execution_count": 21,
      "outputs": []
    },
    {
      "cell_type": "code",
      "source": [
        "for a,b,c in my_list:\n",
        "  print(b,c)"
      ],
      "metadata": {
        "id": "xGU0VAvpSNTr",
        "colab": {
          "base_uri": "https://localhost:8080/"
        },
        "outputId": "14897bed-4218-405e-b0b4-411c738253b3"
      },
      "execution_count": 20,
      "outputs": [
        {
          "output_type": "stream",
          "name": "stdout",
          "text": [
            "2 3\n",
            "5 6\n",
            "8 9\n"
          ]
        }
      ]
    },
    {
      "cell_type": "code",
      "source": [
        "my_dict = {\"k1\":1, \"k2\":2, \"k3\":3}"
      ],
      "metadata": {
        "id": "kE9OBOoCSNRN"
      },
      "execution_count": 27,
      "outputs": []
    },
    {
      "cell_type": "code",
      "source": [
        "for i in my_list:\n",
        "  print(i)"
      ],
      "metadata": {
        "id": "Qo3mS0LjSNOq",
        "colab": {
          "base_uri": "https://localhost:8080/"
        },
        "outputId": "8fe61b53-afb2-4370-f413-697a00aaf9af"
      },
      "execution_count": 30,
      "outputs": [
        {
          "output_type": "stream",
          "name": "stdout",
          "text": [
            "(1, 2, 3)\n",
            "(4, 5, 6)\n",
            "(7, 8, 9)\n"
          ]
        }
      ]
    },
    {
      "cell_type": "code",
      "source": [
        "print(i)"
      ],
      "metadata": {
        "id": "4SLRLwIcSNMm",
        "colab": {
          "base_uri": "https://localhost:8080/"
        },
        "outputId": "7fbc46f9-b0f3-4f27-8593-f0b1c0bf46a7"
      },
      "execution_count": 31,
      "outputs": [
        {
          "output_type": "stream",
          "name": "stdout",
          "text": [
            "(7, 8, 9)\n"
          ]
        }
      ]
    },
    {
      "cell_type": "code",
      "source": [
        "my_dict.items()"
      ],
      "metadata": {
        "id": "VZOVFucnSNKM",
        "colab": {
          "base_uri": "https://localhost:8080/"
        },
        "outputId": "80418151-d342-469b-80be-efd125daecfa"
      },
      "execution_count": 32,
      "outputs": [
        {
          "output_type": "execute_result",
          "data": {
            "text/plain": [
              "dict_items([('k1', 1), ('k2', 2), ('k3', 3)])"
            ]
          },
          "metadata": {},
          "execution_count": 32
        }
      ]
    },
    {
      "cell_type": "code",
      "source": [
        "for i in my_dict.items():\n",
        "  print(i)"
      ],
      "metadata": {
        "colab": {
          "base_uri": "https://localhost:8080/"
        },
        "id": "44QtjgUzGzlk",
        "outputId": "4e450beb-75aa-44fd-f286-a109836b5ebb"
      },
      "execution_count": 34,
      "outputs": [
        {
          "output_type": "stream",
          "name": "stdout",
          "text": [
            "('k1', 1)\n",
            "('k2', 2)\n",
            "('k3', 3)\n"
          ]
        }
      ]
    },
    {
      "cell_type": "code",
      "source": [
        "for a,b in my_dict.items():\n",
        "  print(b)"
      ],
      "metadata": {
        "colab": {
          "base_uri": "https://localhost:8080/"
        },
        "id": "lPBt8KZDGzid",
        "outputId": "2658ac16-408c-4335-dbbf-f1103320cfed"
      },
      "execution_count": 35,
      "outputs": [
        {
          "output_type": "stream",
          "name": "stdout",
          "text": [
            "1\n",
            "2\n",
            "3\n"
          ]
        }
      ]
    },
    {
      "cell_type": "code",
      "source": [
        "for a,b,c in my_list:\n",
        "  print(b,c)"
      ],
      "metadata": {
        "colab": {
          "base_uri": "https://localhost:8080/"
        },
        "id": "Q4diEHvjHMMM",
        "outputId": "1a85eb58-e66f-4dfe-887c-69fa6d5a01db"
      },
      "execution_count": 37,
      "outputs": [
        {
          "output_type": "stream",
          "name": "stdout",
          "text": [
            "2 3\n",
            "5 6\n",
            "8 9\n"
          ]
        }
      ]
    },
    {
      "cell_type": "code",
      "source": [
        "#How to define a for loop\n",
        "#For loop with,\n",
        "#String\n",
        "#Tuple\n",
        "#Dictionary"
      ],
      "metadata": {
        "id": "qajU1pQWGzfB"
      },
      "execution_count": 36,
      "outputs": []
    },
    {
      "cell_type": "code",
      "source": [
        ""
      ],
      "metadata": {
        "id": "siDX_Z3eGzaW"
      },
      "execution_count": null,
      "outputs": []
    },
    {
      "cell_type": "markdown",
      "source": [
        "##While Loops"
      ],
      "metadata": {
        "id": "fat62vlZSNHa"
      }
    },
    {
      "cell_type": "code",
      "source": [
        "i = 0\n",
        "\n",
        "while i < 5:\n",
        "  print(i)\n",
        "  i = i + 1 "
      ],
      "metadata": {
        "colab": {
          "base_uri": "https://localhost:8080/"
        },
        "id": "mZoQPpASSNE6",
        "outputId": "09198503-25eb-4820-ab3c-f17ac32178e7"
      },
      "execution_count": null,
      "outputs": [
        {
          "output_type": "stream",
          "name": "stdout",
          "text": [
            "0\n",
            "1\n",
            "2\n",
            "3\n",
            "4\n"
          ]
        }
      ]
    },
    {
      "cell_type": "code",
      "source": [
        "i = 0\n",
        "\n",
        "while i < 5:\n",
        "  print(i)\n",
        "  i = i + 1 \n",
        "else:\n",
        "    print(\"i: is not less than 5\")"
      ],
      "metadata": {
        "colab": {
          "base_uri": "https://localhost:8080/"
        },
        "id": "HiESjURySNCw",
        "outputId": "7097a003-6edf-4d9c-e83a-d5b9ba9a8b52"
      },
      "execution_count": null,
      "outputs": [
        {
          "output_type": "stream",
          "name": "stdout",
          "text": [
            "0\n",
            "1\n",
            "2\n",
            "3\n",
            "4\n",
            "i: is not less than 5\n"
          ]
        }
      ]
    },
    {
      "cell_type": "code",
      "source": [
        "i = 10\n",
        "\n",
        "while i < 5:\n",
        "  print(i)\n",
        "  i = i + 1 \n",
        "else:\n",
        "  print(\"i is not less than 5\")"
      ],
      "metadata": {
        "colab": {
          "base_uri": "https://localhost:8080/"
        },
        "id": "Fm201Li-SQUx",
        "outputId": "fbcf494a-28ee-4c39-cd31-f45934e02842"
      },
      "execution_count": null,
      "outputs": [
        {
          "output_type": "stream",
          "name": "stdout",
          "text": [
            "i is not less than 5\n"
          ]
        }
      ]
    },
    {
      "cell_type": "markdown",
      "source": [
        "##pass, break and continue"
      ],
      "metadata": {
        "id": "b4gJy-FESQSv"
      }
    },
    {
      "cell_type": "code",
      "source": [
        "l = [1,2,3,4,5]\n",
        "\n",
        "for items in l:\n",
        "  #Comment\n",
        "  pass\n",
        "  print(\"I will work after\")"
      ],
      "metadata": {
        "colab": {
          "base_uri": "https://localhost:8080/"
        },
        "id": "WBIvUPcySQQH",
        "outputId": "5138e2ef-9a5c-4f19-9d6e-5ca56449c009"
      },
      "execution_count": 51,
      "outputs": [
        {
          "output_type": "stream",
          "name": "stdout",
          "text": [
            "I will work after\n",
            "I will work after\n",
            "I will work after\n",
            "I will work after\n",
            "I will work after\n"
          ]
        }
      ]
    },
    {
      "cell_type": "code",
      "source": [
        "my_string = \"Hello world\"\n",
        "\n",
        "for letters in my_string:\n",
        " if letters == \"r\":\n",
        "    break \n",
        "print(letters)"
      ],
      "metadata": {
        "colab": {
          "base_uri": "https://localhost:8080/"
        },
        "id": "8M45ihQrSQNy",
        "outputId": "a4724f95-30d7-4f0b-aa3c-ef37ae0c9a18"
      },
      "execution_count": 42,
      "outputs": [
        {
          "output_type": "stream",
          "name": "stdout",
          "text": [
            "r\n"
          ]
        }
      ]
    },
    {
      "cell_type": "code",
      "source": [
        ""
      ],
      "metadata": {
        "id": "IP0_vbfIShzk"
      },
      "execution_count": 40,
      "outputs": []
    },
    {
      "cell_type": "code",
      "source": [
        "my_string = \"Hello world\"\n",
        "\n",
        "for letters in my_string:\n",
        " if letters == \"e\":\n",
        "   continue\n",
        "print(letters)"
      ],
      "metadata": {
        "colab": {
          "base_uri": "https://localhost:8080/"
        },
        "outputId": "a9427f0f-d65c-4890-ab23-fc6f360b76de",
        "id": "N2Tkc96fT3pb"
      },
      "execution_count": 48,
      "outputs": [
        {
          "output_type": "stream",
          "name": "stdout",
          "text": [
            "d\n"
          ]
        }
      ]
    },
    {
      "cell_type": "code",
      "source": [
        "i = 0 \n",
        "while i < 5:\n",
        "   if i == 3:\n",
        "    break\n",
        "   print(i)\n",
        "   i = i + 1 "
      ],
      "metadata": {
        "colab": {
          "base_uri": "https://localhost:8080/"
        },
        "id": "vbTsjNzTShw3",
        "outputId": "ceabb66f-2a38-4ae8-8634-cc433155436b"
      },
      "execution_count": 50,
      "outputs": [
        {
          "output_type": "stream",
          "name": "stdout",
          "text": [
            "0\n",
            "1\n",
            "2\n"
          ]
        }
      ]
    },
    {
      "cell_type": "markdown",
      "source": [
        "##Most used Built- in fucntions in Python"
      ],
      "metadata": {
        "id": "9oLESiJjShuO"
      }
    },
    {
      "cell_type": "markdown",
      "source": [
        "##1) Range function"
      ],
      "metadata": {
        "id": "3dEp1BNlShr6"
      }
    },
    {
      "cell_type": "code",
      "source": [
        "for num in range (10):\n",
        "  print(num)"
      ],
      "metadata": {
        "colab": {
          "base_uri": "https://localhost:8080/"
        },
        "id": "rrSHul1mTA99",
        "outputId": "b3b34dd3-e8b6-4b73-fbce-b8893ba596ee"
      },
      "execution_count": null,
      "outputs": [
        {
          "output_type": "stream",
          "name": "stdout",
          "text": [
            "0\n",
            "1\n",
            "2\n",
            "3\n",
            "4\n",
            "5\n",
            "6\n",
            "7\n",
            "8\n",
            "9\n"
          ]
        }
      ]
    },
    {
      "cell_type": "code",
      "source": [
        "for num in range (3,10):\n",
        "  print(num)\n",
        "  ##Here we are starting at number 3, beggining and end"
      ],
      "metadata": {
        "colab": {
          "base_uri": "https://localhost:8080/"
        },
        "id": "C_heF5YaTA7s",
        "outputId": "a254bc8d-5c00-4814-8687-55ce1cfb4005"
      },
      "execution_count": null,
      "outputs": [
        {
          "output_type": "stream",
          "name": "stdout",
          "text": [
            "3\n",
            "4\n",
            "5\n",
            "6\n",
            "7\n",
            "8\n",
            "9\n"
          ]
        }
      ]
    },
    {
      "cell_type": "code",
      "source": [
        "for num in range (0,11,2):\n",
        "  print(num)\n",
        "##The line starts whenever you want it to start"
      ],
      "metadata": {
        "colab": {
          "base_uri": "https://localhost:8080/"
        },
        "id": "bTBvTqvCU5Dm",
        "outputId": "75e01c6b-500b-4c7e-fbde-b2a04ad59b57"
      },
      "execution_count": null,
      "outputs": [
        {
          "output_type": "stream",
          "name": "stdout",
          "text": [
            "0\n",
            "2\n",
            "4\n",
            "6\n",
            "8\n",
            "10\n"
          ]
        }
      ]
    },
    {
      "cell_type": "code",
      "source": [
        "my_list = [1,2,3,4,5,6,7,8,9]\n",
        "range(10)\n",
        "list(range(10))\n",
        "list(range(1,11))"
      ],
      "metadata": {
        "colab": {
          "base_uri": "https://localhost:8080/"
        },
        "id": "qOAf0sbdU5BL",
        "outputId": "995ddf97-8f4d-410d-9f77-be02da5ac50c"
      },
      "execution_count": null,
      "outputs": [
        {
          "output_type": "execute_result",
          "data": {
            "text/plain": [
              "[1, 2, 3, 4, 5, 6, 7, 8, 9, 10]"
            ]
          },
          "metadata": {},
          "execution_count": 48
        }
      ]
    },
    {
      "cell_type": "markdown",
      "source": [
        "##2) Enumerate"
      ],
      "metadata": {
        "id": "4V2pn4y0U4-W"
      }
    },
    {
      "cell_type": "code",
      "source": [
        "##It givesback us an index count and object itsel*"
      ],
      "metadata": {
        "id": "_B3HkGhYVtdQ"
      },
      "execution_count": null,
      "outputs": []
    },
    {
      "cell_type": "code",
      "source": [
        "word = \"Batman\"\n",
        "\n",
        "for items in word:\n",
        " print(items)"
      ],
      "metadata": {
        "colab": {
          "base_uri": "https://localhost:8080/"
        },
        "id": "SeQFdNZsVrfK",
        "outputId": "a9a538b9-7a5f-4309-9110-2bb5e31d34ae"
      },
      "execution_count": 52,
      "outputs": [
        {
          "output_type": "stream",
          "name": "stdout",
          "text": [
            "B\n",
            "a\n",
            "t\n",
            "m\n",
            "a\n",
            "n\n"
          ]
        }
      ]
    },
    {
      "cell_type": "code",
      "source": [
        "for items in enumerate(word):\n",
        "  print(items)"
      ],
      "metadata": {
        "colab": {
          "base_uri": "https://localhost:8080/"
        },
        "id": "j-QxbF7zU44Q",
        "outputId": "ff9dfb86-0369-417d-a1ee-57bf0690a306"
      },
      "execution_count": 53,
      "outputs": [
        {
          "output_type": "stream",
          "name": "stdout",
          "text": [
            "(0, 'B')\n",
            "(1, 'a')\n",
            "(2, 't')\n",
            "(3, 'm')\n",
            "(4, 'a')\n",
            "(5, 'n')\n"
          ]
        }
      ]
    },
    {
      "cell_type": "code",
      "source": [
        "for a,b in enumerate(word):\n",
        "  print(items)"
      ],
      "metadata": {
        "colab": {
          "base_uri": "https://localhost:8080/"
        },
        "id": "FEAsbIOGVhD2",
        "outputId": "b7a90de0-58d3-4d9e-c9c5-efc9cede4239"
      },
      "execution_count": 54,
      "outputs": [
        {
          "output_type": "stream",
          "name": "stdout",
          "text": [
            "(5, 'n')\n",
            "(5, 'n')\n",
            "(5, 'n')\n",
            "(5, 'n')\n",
            "(5, 'n')\n",
            "(5, 'n')\n"
          ]
        }
      ]
    },
    {
      "cell_type": "code",
      "source": [
        "for a, b in enumerate(word):\n",
        "  print(a,b)"
      ],
      "metadata": {
        "id": "aOQKpk9DVhBN",
        "colab": {
          "base_uri": "https://localhost:8080/"
        },
        "outputId": "f36b2bcd-bd0c-413d-c9b5-52f0dd94473c"
      },
      "execution_count": 55,
      "outputs": [
        {
          "output_type": "stream",
          "name": "stdout",
          "text": [
            "0 B\n",
            "1 a\n",
            "2 t\n",
            "3 m\n",
            "4 a\n",
            "5 n\n"
          ]
        }
      ]
    },
    {
      "cell_type": "markdown",
      "source": [
        "##3) Zip"
      ],
      "metadata": {
        "id": "Y1vDH0mNWPpl"
      }
    },
    {
      "cell_type": "code",
      "source": [
        "list1 = [1,2,3,4,5]\n",
        "list2 = [\"a\", \"b\",\"c\", \"d\",\"e\"]\n",
        "list3 = [\"a\", \"b\", \"c\"]"
      ],
      "metadata": {
        "id": "TSYze6hYWPm-"
      },
      "execution_count": 65,
      "outputs": []
    },
    {
      "cell_type": "code",
      "source": [
        "list4 = zip(list1, list2)"
      ],
      "metadata": {
        "id": "qEokE2QFWPkf"
      },
      "execution_count": 66,
      "outputs": []
    },
    {
      "cell_type": "code",
      "source": [
        "print(list4)"
      ],
      "metadata": {
        "colab": {
          "base_uri": "https://localhost:8080/"
        },
        "id": "vYaLTIRCWPh_",
        "outputId": "92685278-c72c-403b-bdb0-57a332d4700a"
      },
      "execution_count": 67,
      "outputs": [
        {
          "output_type": "stream",
          "name": "stdout",
          "text": [
            "<zip object at 0x7fd46a392be0>\n"
          ]
        }
      ]
    },
    {
      "cell_type": "code",
      "source": [
        "for items in zip(list1, list2):\n",
        "  print(items)"
      ],
      "metadata": {
        "colab": {
          "base_uri": "https://localhost:8080/"
        },
        "id": "i04rIOEvWrHq",
        "outputId": "5c97dfdd-6f32-4677-a7c4-c461540f6401"
      },
      "execution_count": 68,
      "outputs": [
        {
          "output_type": "stream",
          "name": "stdout",
          "text": [
            "(1, 'a')\n",
            "(2, 'b')\n",
            "(3, 'c')\n",
            "(4, 'd')\n",
            "(5, 'e')\n"
          ]
        }
      ]
    },
    {
      "cell_type": "code",
      "source": [
        "for a,b in zip(list1, list2):\n",
        "  print(a,b)"
      ],
      "metadata": {
        "colab": {
          "base_uri": "https://localhost:8080/"
        },
        "id": "WVdV_ACGWwSO",
        "outputId": "78f76b37-1878-4d13-b8d6-89e725bc6faf"
      },
      "execution_count": 69,
      "outputs": [
        {
          "output_type": "stream",
          "name": "stdout",
          "text": [
            "1 a\n",
            "2 b\n",
            "3 c\n",
            "4 d\n",
            "5 e\n"
          ]
        }
      ]
    },
    {
      "cell_type": "code",
      "source": [
        "for items in zip(list1, list2, list3):\n",
        "  print(items)"
      ],
      "metadata": {
        "id": "4SKyCvzxW2Hu",
        "colab": {
          "base_uri": "https://localhost:8080/"
        },
        "outputId": "eeb92c18-eb6c-48de-cc45-c457d6dc9b38"
      },
      "execution_count": 70,
      "outputs": [
        {
          "output_type": "stream",
          "name": "stdout",
          "text": [
            "(1, 'a', 'a')\n",
            "(2, 'b', 'b')\n",
            "(3, 'c', 'c')\n"
          ]
        }
      ]
    },
    {
      "cell_type": "code",
      "source": [
        "for a,b,c in zip(list1, list2, list3):\n",
        "  print(b)"
      ],
      "metadata": {
        "id": "zX5S0byoW2Fd",
        "colab": {
          "base_uri": "https://localhost:8080/"
        },
        "outputId": "d20ff919-e352-4153-ccc6-e28c154aeb01"
      },
      "execution_count": 71,
      "outputs": [
        {
          "output_type": "stream",
          "name": "stdout",
          "text": [
            "a\n",
            "b\n",
            "c\n"
          ]
        }
      ]
    },
    {
      "cell_type": "code",
      "source": [
        ""
      ],
      "metadata": {
        "id": "GTAMN6deW1-_"
      },
      "execution_count": null,
      "outputs": []
    }
  ]
}