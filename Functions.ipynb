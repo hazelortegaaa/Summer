{
  "nbformat": 4,
  "nbformat_minor": 0,
  "metadata": {
    "colab": {
      "name": "Functions.ipynb",
      "provenance": [],
      "collapsed_sections": [],
      "authorship_tag": "ABX9TyNE474dG5fraKoySHMCaxuT",
      "include_colab_link": true
    },
    "kernelspec": {
      "name": "python3",
      "display_name": "Python 3"
    },
    "language_info": {
      "name": "python"
    }
  },
  "cells": [
    {
      "cell_type": "markdown",
      "metadata": {
        "id": "view-in-github",
        "colab_type": "text"
      },
      "source": [
        "<a href=\"https://colab.research.google.com/github/hazelortegaaa/Summer/blob/main/Functions.ipynb\" target=\"_parent\"><img src=\"https://colab.research.google.com/assets/colab-badge.svg\" alt=\"Open In Colab\"/></a>"
      ]
    },
    {
      "cell_type": "markdown",
      "source": [
        "##Intro to Python IV"
      ],
      "metadata": {
        "id": "PWOBUTqXXbRN"
      }
    },
    {
      "cell_type": "markdown",
      "source": [
        "##Functions!"
      ],
      "metadata": {
        "id": "zOOT03eOXovI"
      }
    },
    {
      "cell_type": "markdown",
      "source": [
        "##How to define a function?"
      ],
      "metadata": {
        "id": "v6Ie3rUqXost"
      }
    },
    {
      "cell_type": "code",
      "source": [
        "\"\"\"\n",
        "'def'name_of_function():\n",
        "   whatever the fucntion is supposed to do.\n",
        "   \"\"\""
      ],
      "metadata": {
        "id": "0b1uhC_jXonv"
      },
      "execution_count": null,
      "outputs": []
    },
    {
      "cell_type": "code",
      "source": [
        "def my_function():\n",
        "  print('Hi there')"
      ],
      "metadata": {
        "id": "B63610m6XolI"
      },
      "execution_count": null,
      "outputs": []
    },
    {
      "cell_type": "code",
      "source": [
        "type(my_function)"
      ],
      "metadata": {
        "id": "K4DJrDMeXoij"
      },
      "execution_count": null,
      "outputs": []
    },
    {
      "cell_type": "markdown",
      "source": [
        ""
      ],
      "metadata": {
        "id": "3hxLQZcdXof7"
      }
    },
    {
      "cell_type": "code",
      "source": [
        "my_function"
      ],
      "metadata": {
        "colab": {
          "base_uri": "https://localhost:8080/"
        },
        "id": "61q3LLu7XodT",
        "outputId": "f2c4b0ad-c33e-4a11-ad50-4522fc8cdbad"
      },
      "execution_count": null,
      "outputs": [
        {
          "output_type": "execute_result",
          "data": {
            "text/plain": [
              "<function __main__.my_function>"
            ]
          },
          "metadata": {},
          "execution_count": 8
        }
      ]
    },
    {
      "cell_type": "code",
      "source": [
        "my_function()"
      ],
      "metadata": {
        "colab": {
          "base_uri": "https://localhost:8080/"
        },
        "id": "MfVy9rkHXoa2",
        "outputId": "1c5058d4-b0a1-45ed-9beb-f45ba0379d10"
      },
      "execution_count": null,
      "outputs": [
        {
          "output_type": "stream",
          "name": "stdout",
          "text": [
            "Hi there\n"
          ]
        }
      ]
    },
    {
      "cell_type": "code",
      "source": [
        "help(my_function)"
      ],
      "metadata": {
        "colab": {
          "base_uri": "https://localhost:8080/"
        },
        "id": "yyrgr_pOXoYO",
        "outputId": "1d68c7e7-c561-4b05-fab3-e568b9af29fe"
      },
      "execution_count": null,
      "outputs": [
        {
          "output_type": "stream",
          "name": "stdout",
          "text": [
            "Help on function my_function in module __main__:\n",
            "\n",
            "my_function()\n",
            "\n"
          ]
        }
      ]
    },
    {
      "cell_type": "code",
      "source": [
        "def my_function():\n",
        "  \"\"\"\n",
        " Created by: The Kahn\n",
        " Input: None\n",
        " Output: Hello\n",
        "  \"\"\"\n",
        "  print(\"hello\")"
      ],
      "metadata": {
        "id": "ssANo4wJXoVb"
      },
      "execution_count": null,
      "outputs": []
    },
    {
      "cell_type": "code",
      "source": [
        "my_function()"
      ],
      "metadata": {
        "colab": {
          "base_uri": "https://localhost:8080/"
        },
        "id": "YaGobp5HXoS3",
        "outputId": "74128609-1495-4a9b-d702-93175a3816c7"
      },
      "execution_count": null,
      "outputs": [
        {
          "output_type": "stream",
          "name": "stdout",
          "text": [
            "hello\n"
          ]
        }
      ]
    },
    {
      "cell_type": "code",
      "source": [
        "help(my_function)"
      ],
      "metadata": {
        "colab": {
          "base_uri": "https://localhost:8080/"
        },
        "id": "hF2CWBztXoQM",
        "outputId": "5ce0bd73-cb6d-4d13-bb38-93429fb4d987"
      },
      "execution_count": null,
      "outputs": [
        {
          "output_type": "stream",
          "name": "stdout",
          "text": [
            "Help on function my_function in module __main__:\n",
            "\n",
            "my_function()\n",
            "    Created by: The Kahn\n",
            "    Input: None\n",
            "    Output: Hello\n",
            "\n"
          ]
        }
      ]
    },
    {
      "cell_type": "code",
      "source": [
        "def greetings():\n",
        "  \"\"\"\n",
        " Created by: The Kahn\n",
        " Input: None\n",
        " Output: Hello\n",
        "  \"\"\"\n",
        "  print(\"good afternoon\")"
      ],
      "metadata": {
        "id": "1neYTEE1atU-"
      },
      "execution_count": null,
      "outputs": []
    },
    {
      "cell_type": "code",
      "source": [
        "greetings()"
      ],
      "metadata": {
        "colab": {
          "base_uri": "https://localhost:8080/"
        },
        "id": "bFcB3WTHXoIc",
        "outputId": "be3f7769-e55f-4c1e-fe8e-0736d44972fa"
      },
      "execution_count": null,
      "outputs": [
        {
          "output_type": "stream",
          "name": "stdout",
          "text": [
            "good afternoon\n"
          ]
        }
      ]
    },
    {
      "cell_type": "code",
      "source": [
        "def greetings(name):\n",
        "  \"\"\"\n",
        " Created by: The Kahn\n",
        " Input: None\n",
        " Output: Hello\n",
        "  \"\"\"\n",
        "  print(\"good afternoon\" + name)"
      ],
      "metadata": {
        "id": "eBSEVJXkZR79"
      },
      "execution_count": null,
      "outputs": []
    },
    {
      "cell_type": "code",
      "source": [
        "greetings(' John')"
      ],
      "metadata": {
        "colab": {
          "base_uri": "https://localhost:8080/"
        },
        "id": "J8RiyX0na7VU",
        "outputId": "3c1aef2f-cf7a-4630-9f5f-bc50a1dfb712"
      },
      "execution_count": null,
      "outputs": [
        {
          "output_type": "stream",
          "name": "stdout",
          "text": [
            "good afternoon John\n"
          ]
        }
      ]
    },
    {
      "cell_type": "code",
      "source": [
        "def greetings2(name = 'John'):\n",
        "  \"\"\"\n",
        " Created by: The Kahn\n",
        " Input: None\n",
        " Output: Hello\n",
        "  \"\"\"\n",
        "  print(\"good afternoon \" + name)"
      ],
      "metadata": {
        "id": "w-nPu56cZR5j"
      },
      "execution_count": null,
      "outputs": []
    },
    {
      "cell_type": "code",
      "source": [
        "greetings(' Tom')"
      ],
      "metadata": {
        "colab": {
          "base_uri": "https://localhost:8080/"
        },
        "id": "61bb5vNhZR26",
        "outputId": "12749302-39b3-4eac-e861-562351752cec"
      },
      "execution_count": null,
      "outputs": [
        {
          "output_type": "stream",
          "name": "stdout",
          "text": [
            "good afternoon Tom\n"
          ]
        }
      ]
    },
    {
      "cell_type": "code",
      "source": [
        "name = input(\"Enter your name: \")\n",
        "greetings2(name)"
      ],
      "metadata": {
        "id": "EGtASFH2aZz2"
      },
      "execution_count": null,
      "outputs": []
    },
    {
      "cell_type": "code",
      "source": [
        "def add(n1,n2):\n",
        "  return n1 +n2"
      ],
      "metadata": {
        "id": "AL6Ca1wYaZxW"
      },
      "execution_count": null,
      "outputs": []
    },
    {
      "cell_type": "code",
      "source": [
        "add(34, 89)"
      ],
      "metadata": {
        "colab": {
          "base_uri": "https://localhost:8080/"
        },
        "id": "MuF3LrPkbsYl",
        "outputId": "221a3893-1a0a-4f67-b38b-9bfb4a6dcf33"
      },
      "execution_count": null,
      "outputs": [
        {
          "output_type": "execute_result",
          "data": {
            "text/plain": [
              "123"
            ]
          },
          "metadata": {},
          "execution_count": 75
        }
      ]
    },
    {
      "cell_type": "code",
      "source": [
        "def even_numbers(n):\n",
        "   \"\"\"\n",
        "Description: This frunction prints out even numbers from a given list of numbers.\n",
        "Created by: The Kahn\n",
        "Input: list of numbers\n",
        "Output: even numbers from given list\n",
        "  \"\"\"\n",
        "\n",
        "num = []\n",
        "for i in n:\n",
        "    if i % 2 == 0:\n",
        "      num.append(i) #Add to the array\n",
        " return(num)"
      ],
      "metadata": {
        "id": "1nFxfTGXbsWO"
      },
      "execution_count": null,
      "outputs": []
    },
    {
      "cell_type": "code",
      "source": [
        "help(even_numbers)\n"
      ],
      "metadata": {
        "colab": {
          "base_uri": "https://localhost:8080/"
        },
        "id": "WIe_B_h1cLQ0",
        "outputId": "4a3038b3-02d2-4b31-e9a6-d38b7dca3424"
      },
      "execution_count": null,
      "outputs": [
        {
          "output_type": "stream",
          "name": "stdout",
          "text": [
            "Help on function even_numbers in module __main__:\n",
            "\n",
            "even_numbers(n)\n",
            "    Description: This frunction prints out even numbers from a given list of numbers.\n",
            "    Created by: The Kahn\n",
            "    Input: list of numbers\n",
            "    Output: even numbers from given list\n",
            "\n"
          ]
        }
      ]
    },
    {
      "cell_type": "code",
      "source": [
        "even_numbers([23,33,7])"
      ],
      "metadata": {
        "id": "DTYTzLPMbsTr"
      },
      "execution_count": null,
      "outputs": []
    },
    {
      "cell_type": "code",
      "source": [
        "def odd_numbers(n):\n",
        "  \"\"\"\n",
        "  Description: This function prints out odd numbers from a given list.\n",
        "  Created by: Hazel\n",
        "  Input: List of numbers\n",
        "  Output: Odd numbers from a given list\n",
        "  \"\"\"\n",
        "  num = []\n",
        "  for i in n:\n",
        "    if i % 2 !=0:\n",
        "      num.append(i)\n",
        "    return num\n"
      ],
      "metadata": {
        "id": "_0xnDc67bsM4"
      },
      "execution_count": null,
      "outputs": []
    },
    {
      "cell_type": "code",
      "source": [
        "help(odd_numbers)"
      ],
      "metadata": {
        "id": "GJPJNL4xOb6Y"
      },
      "execution_count": null,
      "outputs": []
    },
    {
      "cell_type": "code",
      "source": [
        "odd_numbers([2,3,4,5,6,7,8,9,10])"
      ],
      "metadata": {
        "id": "tGHdRroWOb38"
      },
      "execution_count": null,
      "outputs": []
    },
    {
      "cell_type": "code",
      "source": [
        ""
      ],
      "metadata": {
        "id": "RJnkOqgEOb1B"
      },
      "execution_count": null,
      "outputs": []
    },
    {
      "cell_type": "markdown",
      "source": [
        "\n",
        "\n",
        "\n",
        "##Workout"
      ],
      "metadata": {
        "id": "deix7iKdbsKe"
      }
    },
    {
      "cell_type": "code",
      "source": [
        ""
      ],
      "metadata": {
        "id": "Me22ZTn2nLpy"
      },
      "execution_count": null,
      "outputs": []
    },
    {
      "cell_type": "code",
      "source": [
        ""
      ],
      "metadata": {
        "id": "ceN_sDC0nLnN"
      },
      "execution_count": null,
      "outputs": []
    },
    {
      "cell_type": "code",
      "source": [
        ""
      ],
      "metadata": {
        "id": "umAKFAlTnLka"
      },
      "execution_count": null,
      "outputs": []
    },
    {
      "cell_type": "code",
      "source": [
        ""
      ],
      "metadata": {
        "id": "22iXhYAvnLhs"
      },
      "execution_count": null,
      "outputs": []
    },
    {
      "cell_type": "code",
      "source": [
        ""
      ],
      "metadata": {
        "id": "9NLCZIkjnLe8"
      },
      "execution_count": null,
      "outputs": []
    }
  ]
}